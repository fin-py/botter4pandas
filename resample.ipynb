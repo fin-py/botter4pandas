{
 "cells": [
  {
   "cell_type": "markdown",
   "metadata": {},
   "source": [
    "# Groupby と Resample \n",
    "\n",
    "- 参照\n",
    "    - [Group by: split-apply-combine — pandas 1.4.1 documentation](https://pandas.pydata.org/pandas-docs/stable/user_guide/groupby.html#group-by-split-apply-combine)\n",
    "    - [Resampling — pandas 1.4.1 documentation](https://pandas.pydata.org/pandas-docs/stable/user_guide/timeseries.html#resampling)\n"
   ]
  },
  {
   "cell_type": "markdown",
   "metadata": {},
   "source": [
    "## Groupbyとは\n",
    "\n",
    "1. 1つのデータを複数のグループに分割する(Splitting)\n",
    "1. 分割した各データに関数を適用して値を得る (Applying)\n",
    "1. 得た値をデータにまとめる  (Combining)\n"
   ]
  },
  {
   "cell_type": "code",
   "execution_count": null,
   "metadata": {},
   "outputs": [],
   "source": [
    "import pandas as pd\n",
    "import numpy as np\n",
    "\n",
    "df = pd.DataFrame(\n",
    "    {\n",
    "        \"date\": pd.date_range(start=\"2000-1-1 0:0:0\", periods=9, freq=\"H\"),\n",
    "        \"class\": np.array([\"A\", \"B\", \"C\"]).repeat(3),\n",
    "        \"value A\": np.random.random_sample(9),\n",
    "        \"value B\": np.random.random_sample(9) * 100,\n",
    "    }\n",
    ")"
   ]
  },
  {
   "cell_type": "code",
   "execution_count": null,
   "metadata": {},
   "outputs": [],
   "source": [
    "df"
   ]
  },
  {
   "cell_type": "code",
   "execution_count": null,
   "metadata": {},
   "outputs": [],
   "source": [
    "# class 毎にデータを分割\n",
    "df_grouped = df.groupby(by=\"class\")\n"
   ]
  },
  {
   "cell_type": "code",
   "execution_count": null,
   "metadata": {},
   "outputs": [],
   "source": [
    "# グループ化した各データの \"value A\" カラムに max 関数を適用\n",
    "mx = df_grouped[[\"value A\", \"value B\"]].max()\n"
   ]
  },
  {
   "cell_type": "code",
   "execution_count": null,
   "metadata": {},
   "outputs": [],
   "source": [
    "# 得た値をデータにまとめる\n",
    "mx"
   ]
  },
  {
   "cell_type": "markdown",
   "metadata": {},
   "source": [
    "## Resample とは\n",
    "\n",
    "- \"時間\"で Groupby すること\n",
    "- 金融データは時系列データの事が多いので多用\n",
    "- 注意：\n",
    "    - Datetime index や Period index といった、時間を表す index を持つデータにのみ使える\n",
    "    - \"Frequency String\" と呼ばれる文字列を使って、どの単位時間でデータを分割するかを設定する"
   ]
  },
  {
   "cell_type": "code",
   "execution_count": null,
   "metadata": {},
   "outputs": [],
   "source": [
    "# df は、datetimeindex を持っていないので、\n",
    "# date コラムを、このデータのインデックスに設定して上書き\n",
    "df.set_index(\"date\", inplace=True)\n",
    "df "
   ]
  },
  {
   "cell_type": "code",
   "execution_count": null,
   "metadata": {},
   "outputs": [],
   "source": [
    "df.index"
   ]
  },
  {
   "cell_type": "code",
   "execution_count": null,
   "metadata": {},
   "outputs": [],
   "source": [
    "# 2時間毎に、Value Aと Value Bの Max を取得\n",
    "df.resample(\"2H\")[[\"value A\", \"value B\"]].max()"
   ]
  },
  {
   "cell_type": "markdown",
   "metadata": {},
   "source": [
    "## 金融データのResampling\n",
    "\n",
    "1. データを分割する(Splitting) \n",
    "    - 時系列データをとある時間単位に分割\n",
    "1. 分割した各データに関数を適用して値を得る (Applying)  \n",
    "    -  メソッド、apply、agg \n",
    "1. 得た値をデータにまとめる  (Combining) \n",
    "    - → \n"
   ]
  },
  {
   "cell_type": "code",
   "execution_count": null,
   "metadata": {},
   "outputs": [],
   "source": [
    "import asyncio\n",
    "\n",
    "import nest_asyncio\n",
    "import pandas as pd\n",
    "import plotly.graph_objects as go\n",
    "import pybotters\n",
    "from IPython.display import HTML\n",
    "\n",
    "nest_asyncio.apply()"
   ]
  },
  {
   "cell_type": "markdown",
   "metadata": {},
   "source": [
    "## API から Trade データを取得\n",
    "\n",
    "- 取引データから OHLCV を作成します\n",
    "- [Get trades – API Documentation](https://docs.ftx.com/#get-trades)\n"
   ]
  },
  {
   "cell_type": "code",
   "execution_count": null,
   "metadata": {},
   "outputs": [],
   "source": [
    "async def get_trades(market_name, start_time, end_time):\n",
    "    async with pybotters.Client(\n",
    "        apis={\"ftx\": [\"\", \"\"]}, base_url=\"https://ftx.com/api\"\n",
    "    ) as client:\n",
    "        res = await client.get(\n",
    "            f\"/markets/{market_name}/trades\",\n",
    "            params={\n",
    "                \"start_time\": start_time,\n",
    "                \"end_time\": end_time,\n",
    "            },\n",
    "        )\n",
    "        return await res.json()\n",
    "\n",
    "\n",
    "data = asyncio.run(get_trades(\"BTC-PERP\", 1643641200, 1643727600))\n",
    "data[\"result\"][:3]"
   ]
  },
  {
   "cell_type": "markdown",
   "metadata": {},
   "source": [
    "## DataFrame の作成\n",
    "- `time` コラムを datetimeindex に持つDataFrameを作成します"
   ]
  },
  {
   "cell_type": "code",
   "execution_count": null,
   "metadata": {},
   "outputs": [],
   "source": [
    "df = pd.DataFrame(data[\"result\"])\n",
    "df.head()"
   ]
  },
  {
   "cell_type": "code",
   "execution_count": null,
   "metadata": {},
   "outputs": [],
   "source": [
    "df.dtypes\n"
   ]
  },
  {
   "cell_type": "code",
   "execution_count": null,
   "metadata": {},
   "outputs": [],
   "source": [
    "# time を datetime 型に変更し、この dataframe の index として設定\n",
    "df = pd.DataFrame(data[\"result\"])\n",
    "df[\"time\"] = pd.to_datetime(df[\"time\"])\n",
    "df.set_index(\"time\", inplace=True)\n",
    "df.sort_index(inplace=True)\n",
    "df"
   ]
  },
  {
   "cell_type": "markdown",
   "metadata": {},
   "source": []
  },
  {
   "cell_type": "markdown",
   "metadata": {},
   "source": [
    "### 例：取引データから1分足と出来高を作成"
   ]
  },
  {
   "cell_type": "code",
   "execution_count": null,
   "metadata": {},
   "outputs": [],
   "source": [
    "# まずは dataframe の resample メソッドを使って、Resampler object を作成\n",
    "df_resampled = df.resample(\"1min\", label=\"right\")\n",
    "df_ohlc = df_resampled[\"price\"].ohlc()\n",
    "df_ohlc[\"volume\"] = df_resampled[\"size\"].sum()\n",
    "df_ohlc"
   ]
  },
  {
   "cell_type": "markdown",
   "metadata": {},
   "source": [
    "### 詳しく説明\n",
    "\n",
    "- TBA\n"
   ]
  }
 ],
 "metadata": {
  "kernelspec": {
   "display_name": "Python 3 (ipykernel)",
   "language": "python",
   "name": "python3"
  },
  "language_info": {
   "codemirror_mode": {
    "name": "ipython",
    "version": 3
   },
   "file_extension": ".py",
   "mimetype": "text/x-python",
   "name": "python",
   "nbconvert_exporter": "python",
   "pygments_lexer": "ipython3",
   "version": "3.8.3"
  }
 },
 "nbformat": 4,
 "nbformat_minor": 4
}
